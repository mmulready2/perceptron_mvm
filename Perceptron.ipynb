{
  "nbformat": 4,
  "nbformat_minor": 0,
  "metadata": {
    "colab": {
      "provenance": [],
      "include_colab_link": true
    },
    "kernelspec": {
      "name": "python3",
      "display_name": "Python 3"
    },
    "language_info": {
      "name": "python"
    }
  },
  "cells": [
    {
      "cell_type": "markdown",
      "metadata": {
        "id": "view-in-github",
        "colab_type": "text"
      },
      "source": [
        "<a href=\"https://colab.research.google.com/github/mmulready2/perceptron_mvm/blob/main/Perceptron.ipynb\" target=\"_parent\"><img src=\"https://colab.research.google.com/assets/colab-badge.svg\" alt=\"Open In Colab\"/></a>"
      ]
    },
    {
      "cell_type": "code",
      "execution_count": null,
      "metadata": {
        "colab": {
          "base_uri": "https://localhost:8080/"
        },
        "id": "vw4r5vpqF2sP",
        "outputId": "858fbf4c-b938-416d-aa64-91d70079d17b"
      },
      "outputs": [
        {
          "output_type": "stream",
          "name": "stdout",
          "text": [
            "it loaded\n"
          ]
        }
      ],
      "source": [
        "import numpy as np\n",
        "import matplotlib.pyplot as plt\n",
        "print('it loaded')"
      ]
    },
    {
      "cell_type": "code",
      "source": [
        "# Training Data\n",
        "# SUMO WRESTLERS\n",
        "input_weights1 = np.array([100,120,130])\n",
        "input_heights1 = np.array([170,190,200])\n",
        "\n",
        "# BALLET DANCERS\n",
        "input_weights0 = np.array([56,60,70])\n",
        "input_heights0 = np.array([120,140,130])\n",
        "\n",
        "input_weights = np.concatenate((input_weights1, input_weights0))\n",
        "print(input_weights)\n",
        "\n",
        "input_heights = np.concatenate((input_heights1, input_heights0))\n",
        "print(input_heights)\n",
        "\n",
        "output_labels = np.array([1,1,1,0,0,0])  # 1 = SUMO, 0 = BALLET\n",
        "\n",
        "# plt.plot(input_weights, input_heights)\n",
        "plt.figure(figsize=(3,3))\n",
        "plt.scatter(input_weights1, input_heights1, color='blue')\n",
        "plt.scatter(input_weights0, input_heights0, color='pink')\n",
        "plt.xlabel('weight')\n",
        "plt.ylabel('height')\n",
        "plt.show()\n",
        "print(type(input_weights0))"
      ],
      "metadata": {
        "colab": {
          "base_uri": "https://localhost:8080/",
          "height": 365
        },
        "id": "K-AOzN2dF8mt",
        "outputId": "2edd9e1f-04d7-40cf-e489-730c378a0eff"
      },
      "execution_count": null,
      "outputs": [
        {
          "output_type": "stream",
          "name": "stdout",
          "text": [
            "[100 120 130  56  60  70]\n",
            "[170 190 200 120 140 130]\n"
          ]
        },
        {
          "output_type": "display_data",
          "data": {
            "text/plain": [
              "<Figure size 300x300 with 1 Axes>"
            ],
            "image/png": "[encoded data removed]"
          },
          "metadata": {}
        },
        {
          "output_type": "stream",
          "name": "stdout",
          "text": [
            "<class 'numpy.ndarray'>\n"
          ]
        }
      ]
    },
    {
      "cell_type": "code",
      "source": [
        "def perceptron(weight, height):\n",
        "  \"\"\" Given a weight and height, returns BALLET(0) or SUMO(1) \"\"\"\n",
        "  # y = mx + b  (y = height, x = weight)\n",
        "  m = -2\n",
        "  b = 320\n",
        "\n",
        "  if height >= weight * m + b:\n",
        "    return 1\n",
        "  else:\n",
        "    return 0\n",
        "\n",
        "# testing\n",
        "# go through every data point ot see if correct, count errors\n",
        "predicted_outputs = []\n",
        "for i in range(input_weights.shape[0]):\n",
        "  predicted_outputs.append(perceptron(input_weights[i], input_heights[i]))\n",
        "\n",
        "print(predicted_outputs)"
      ],
      "metadata": {
        "colab": {
          "base_uri": "https://localhost:8080/"
        },
        "id": "osAt2pV3JDk7",
        "outputId": "25c72dd6-ef3a-47e3-ce33-2f43e1ffd6f9"
      },
      "execution_count": null,
      "outputs": [
        {
          "output_type": "stream",
          "name": "stdout",
          "text": [
            "[1, 1, 1, 0, 0, 0]\n"
          ]
        }
      ]
    },
    {
      "cell_type": "code",
      "source": [
        "a = [3,2,1]\n",
        "print(a[0])\n",
        "input_weights.shape[0]"
      ],
      "metadata": {
        "colab": {
          "base_uri": "https://localhost:8080/"
        },
        "id": "Gu7nGKkdOLq9",
        "outputId": "2a9665c6-cbaa-417d-b9bd-98511f25b1e9"
      },
      "execution_count": null,
      "outputs": [
        {
          "output_type": "stream",
          "name": "stdout",
          "text": [
            "3\n"
          ]
        },
        {
          "output_type": "execute_result",
          "data": {
            "text/plain": [
              "6"
            ]
          },
          "metadata": {},
          "execution_count": 36
        }
      ]
    },
    {
      "cell_type": "code",
      "source": [
        "m = -2\n",
        "b = 320\n",
        "plt.figure(figsize=(3,3))\n",
        "plt.scatter(input_weights, input_heights, c=output_labels)\n",
        "plt.xlabel('weight')\n",
        "plt.ylabel('height')\n",
        "# plot y = mx + b, from 50 to 150\n",
        "weights = np.linspace(50,150,300)\n",
        "heights = weights * m + b\n",
        "plt.plot(weights, heights)\n",
        "plt.show()"
      ],
      "metadata": {
        "colab": {
          "base_uri": "https://localhost:8080/",
          "height": 311
        },
        "id": "-gNK7_a3K2uU",
        "outputId": "55916548-87c6-441e-f16a-f4c28ef2e860"
      },
      "execution_count": null,
      "outputs": [
        {
          "output_type": "display_data",
          "data": {
            "text/plain": [
              "<Figure size 300x300 with 1 Axes>"
            ],
            "image/png": "[encoded data removed]"
          },
          "metadata": {}
        }
      ]
    },
    {
      "cell_type": "code",
      "source": [
        "print(weights)"
      ],
      "metadata": {
        "colab": {
          "base_uri": "https://localhost:8080/"
        },
        "id": "iUUPXGM5Nfzu",
        "outputId": "c11f4431-110e-45cf-87f0-d5d99f0f986e"
      },
      "execution_count": null,
      "outputs": [
        {
          "output_type": "stream",
          "name": "stdout",
          "text": [
            "[ 50.          50.33444816  50.66889632  51.00334448  51.33779264\n",
            "  51.6722408   52.00668896  52.34113712  52.67558528  53.01003344\n",
            "  53.34448161  53.67892977  54.01337793  54.34782609  54.68227425\n",
            "  55.01672241  55.35117057  55.68561873  56.02006689  56.35451505\n",
            "  56.68896321  57.02341137  57.35785953  57.69230769  58.02675585\n",
            "  58.36120401  58.69565217  59.03010033  59.36454849  59.69899666\n",
            "  60.03344482  60.36789298  60.70234114  61.0367893   61.37123746\n",
            "  61.70568562  62.04013378  62.37458194  62.7090301   63.04347826\n",
            "  63.37792642  63.71237458  64.04682274  64.3812709   64.71571906\n",
            "  65.05016722  65.38461538  65.71906355  66.05351171  66.38795987\n",
            "  66.72240803  67.05685619  67.39130435  67.72575251  68.06020067\n",
            "  68.39464883  68.72909699  69.06354515  69.39799331  69.73244147\n",
            "  70.06688963  70.40133779  70.73578595  71.07023411  71.40468227\n",
            "  71.73913043  72.0735786   72.40802676  72.74247492  73.07692308\n",
            "  73.41137124  73.7458194   74.08026756  74.41471572  74.74916388\n",
            "  75.08361204  75.4180602   75.75250836  76.08695652  76.42140468\n",
            "  76.75585284  77.090301    77.42474916  77.75919732  78.09364548\n",
            "  78.42809365  78.76254181  79.09698997  79.43143813  79.76588629\n",
            "  80.10033445  80.43478261  80.76923077  81.10367893  81.43812709\n",
            "  81.77257525  82.10702341  82.44147157  82.77591973  83.11036789\n",
            "  83.44481605  83.77926421  84.11371237  84.44816054  84.7826087\n",
            "  85.11705686  85.45150502  85.78595318  86.12040134  86.4548495\n",
            "  86.78929766  87.12374582  87.45819398  87.79264214  88.1270903\n",
            "  88.46153846  88.79598662  89.13043478  89.46488294  89.7993311\n",
            "  90.13377926  90.46822742  90.80267559  91.13712375  91.47157191\n",
            "  91.80602007  92.14046823  92.47491639  92.80936455  93.14381271\n",
            "  93.47826087  93.81270903  94.14715719  94.48160535  94.81605351\n",
            "  95.15050167  95.48494983  95.81939799  96.15384615  96.48829431\n",
            "  96.82274247  97.15719064  97.4916388   97.82608696  98.16053512\n",
            "  98.49498328  98.82943144  99.1638796   99.49832776  99.83277592\n",
            " 100.16722408 100.50167224 100.8361204  101.17056856 101.50501672\n",
            " 101.83946488 102.17391304 102.5083612  102.84280936 103.17725753\n",
            " 103.51170569 103.84615385 104.18060201 104.51505017 104.84949833\n",
            " 105.18394649 105.51839465 105.85284281 106.18729097 106.52173913\n",
            " 106.85618729 107.19063545 107.52508361 107.85953177 108.19397993\n",
            " 108.52842809 108.86287625 109.19732441 109.53177258 109.86622074\n",
            " 110.2006689  110.53511706 110.86956522 111.20401338 111.53846154\n",
            " 111.8729097  112.20735786 112.54180602 112.87625418 113.21070234\n",
            " 113.5451505  113.87959866 114.21404682 114.54849498 114.88294314\n",
            " 115.2173913  115.55183946 115.88628763 116.22073579 116.55518395\n",
            " 116.88963211 117.22408027 117.55852843 117.89297659 118.22742475\n",
            " 118.56187291 118.89632107 119.23076923 119.56521739 119.89966555\n",
            " 120.23411371 120.56856187 120.90301003 121.23745819 121.57190635\n",
            " 121.90635452 122.24080268 122.57525084 122.909699   123.24414716\n",
            " 123.57859532 123.91304348 124.24749164 124.5819398  124.91638796\n",
            " 125.25083612 125.58528428 125.91973244 126.2541806  126.58862876\n",
            " 126.92307692 127.25752508 127.59197324 127.9264214  128.26086957\n",
            " 128.59531773 128.92976589 129.26421405 129.59866221 129.93311037\n",
            " 130.26755853 130.60200669 130.93645485 131.27090301 131.60535117\n",
            " 131.93979933 132.27424749 132.60869565 132.94314381 133.27759197\n",
            " 133.61204013 133.94648829 134.28093645 134.61538462 134.94983278\n",
            " 135.28428094 135.6187291  135.95317726 136.28762542 136.62207358\n",
            " 136.95652174 137.2909699  137.62541806 137.95986622 138.29431438\n",
            " 138.62876254 138.9632107  139.29765886 139.63210702 139.96655518\n",
            " 140.30100334 140.63545151 140.96989967 141.30434783 141.63879599\n",
            " 141.97324415 142.30769231 142.64214047 142.97658863 143.31103679\n",
            " 143.64548495 143.97993311 144.31438127 144.64882943 144.98327759\n",
            " 145.31772575 145.65217391 145.98662207 146.32107023 146.65551839\n",
            " 146.98996656 147.32441472 147.65886288 147.99331104 148.3277592\n",
            " 148.66220736 148.99665552 149.33110368 149.66555184 150.        ]\n"
          ]
        }
      ]
    },
    {
      "cell_type": "markdown",
      "source": [
        "In this notebook we continue coding a perceptron (linear ML model with the pceptron traning algorithm)\n",
        "\n",
        "* **np.array** - used to initialize and nd array\n",
        "* **np.zeros((dim))** - initializes ndarray w zeroes\n",
        "* **np.ones((dim))** - initialize w ones\n",
        "* **np.random.rand((dim))** - initialize with random floats [0,1)\n",
        "* **ndarray.shape** - prints the dimensions\n",
        "* **ndarray.T** - swaps matrix rows and closes (transpose)"
      ],
      "metadata": {
        "id": "-PB4KzqNgQML"
      }
    },
    {
      "cell_type": "code",
      "source": [
        "# PERCEPTRON 2\n",
        "\n",
        "import numpy as np\n",
        "import matplotlib.pyplot as plt\n",
        "\n",
        "# we use X for input (2d input, ex: height & weight)\n",
        "# we use y for output 1 or 0\n",
        "# y is binary, X is continuous\n",
        "\n",
        "X = np.array(([1,1],[1,0],[-1,0],[-1,-1]))\n",
        "y = np.array([1,1,0,0])\n",
        "z = np.array([[[1,1],[2,2]],[[3,3],[5,4]],[[1,1],[2,2,]],[[3,3],[5,4]]])\n",
        "\n",
        "print(X.shape)\n",
        "print(y.shape)\n",
        "print(z)"
      ],
      "metadata": {
        "id": "Nwl632F4f3JV",
        "outputId": "ae8115f5-dc99-4f08-8964-4f07d2713355",
        "colab": {
          "base_uri": "https://localhost:8080/"
        }
      },
      "execution_count": null,
      "outputs": [
        {
          "output_type": "stream",
          "name": "stdout",
          "text": [
            "(4, 2)\n",
            "(4,)\n",
            "[[[1 1]\n",
            "  [2 2]]\n",
            "\n",
            " [[3 3]\n",
            "  [5 4]]\n",
            "\n",
            " [[1 1]\n",
            "  [2 2]]\n",
            "\n",
            " [[3 3]\n",
            "  [5 4]]]\n"
          ]
        }
      ]
    },
    {
      "cell_type": "code",
      "source": [
        "# PERCEPTRON 3\n",
        "\n",
        "import numpy as np\n",
        "import matplotlib.pyplot as plt\n",
        "\n",
        "class Perceptron:\n",
        "  \"\"\" This class will implement a basic perceptron of any\n",
        "  dimension, allow training using human input, and the\n",
        "  perceptron training algorithm \"\"\"\n",
        "  def __init__(self, X, y):\n",
        "    # the array index is sample #\n",
        "    self.X = X # the input space\n",
        "    self.y = y # the output\n",
        "    num_datapts, input_dim = X.shape\n",
        "    # initialize parameters with random values between 0,1\n",
        "    self.weights = np.random.rand(2) - 0.5\n",
        "\n",
        "  def plot(self):\n",
        "    \"\"\" Plots data and interface boundary \"\"\"\n",
        "    plt.figure(figsize=(3,3))\n",
        "    plt.scatter(X[:,0],X[:,1], c=self.y) # add c to change color\n",
        "    x0min = np.min(X[:,0])\n",
        "    x0max = np.max(X[:,0])\n",
        "\n",
        "    x1min = np.min(X[:,1])\n",
        "    x1max = np.max(X[:,1])\n",
        "\n",
        "    # p1 = [x0min, x1min]\n",
        "    # p2 = [x0max, x1max]\n",
        "    # calculate X1 from x0 and weights\n",
        "    x1min = -(self.weights[0] * x0min) / self.weights[1]\n",
        "    x1max = -(self.weights[0] * x0max) / self.weights[1]\n",
        "    plt.plot([x0min, x0max],[x1min, x1max])\n",
        "\n",
        "    plt.show()\n",
        "\n",
        "  def train_human(self):\n",
        "    \"\"\" Updates weights based on human input \"\"\"\n",
        "    print('Current weights: ', self.weights)\n",
        "    self.weights[0] = float(input('Enter w0:'))\n",
        "\n",
        "# EXAMPLE DATA\n",
        "X = np.array([[1,1],[-1,-1],[1,0]])\n",
        "y = np.array([1,-1,1])\n",
        "\n",
        "my_p = Perceptron(X,y)\n",
        "# X.shape\n",
        "# type(my_p)\n",
        "\n",
        "# LOOP\n",
        "my_p.plot()\n",
        "while True:\n",
        "  my_p.train_human()\n",
        "  my_p.plot()"
      ],
      "metadata": {
        "id": "SuuNb2-V07lW",
        "outputId": "3e2e1aed-991e-4d1a-985e-872adf602032",
        "colab": {
          "base_uri": "https://localhost:8080/",
          "height": 1000
        }
      },
      "execution_count": 29,
      "outputs": [
        {
          "output_type": "display_data",
          "data": {
            "text/plain": [
              "<Figure size 300x300 with 1 Axes>"
            ],
            "image/png": "[encoded data removed]"
          },
          "metadata": {}
        },
        {
          "name": "stdout",
          "output_type": "stream",
          "text": [
            "Current weights:  [-0.43941261  0.44761303]\n",
            "Enter w0:1\n"
          ]
        },
        {
          "output_type": "display_data",
          "data": {
            "text/plain": [
              "<Figure size 300x300 with 1 Axes>"
            ],
            "image/png": "[encoded data removed]"
          },
          "metadata": {}
        },
        {
          "name": "stdout",
          "output_type": "stream",
          "text": [
            "Current weights:  [1.         0.44761303]\n",
            "Enter w0:1\n"
          ]
        },
        {
          "output_type": "display_data",
          "data": {
            "text/plain": [
              "<Figure size 300x300 with 1 Axes>"
            ],
            "image/png": "[encoded data removed]"
          },
          "metadata": {}
        },
        {
          "output_type": "stream",
          "name": "stdout",
          "text": [
            "Current weights:  [1.         0.44761303]\n"
          ]
        },
        {
          "output_type": "error",
          "ename": "KeyboardInterrupt",
          "evalue": "Interrupted by user",
          "traceback": [
            "\u001b[0;31m---------------------------------------------------------------------------\u001b[0m",
            "\u001b[0;31mKeyboardInterrupt\u001b[0m                         Traceback (most recent call last)",
            "\u001b[0;32m/tmp/ipython-input-627762577.py\u001b[0m in \u001b[0;36m<cell line: 0>\u001b[0;34m()\u001b[0m\n\u001b[1;32m     51\u001b[0m \u001b[0mmy_p\u001b[0m\u001b[0;34m.\u001b[0m\u001b[0mplot\u001b[0m\u001b[0;34m(\u001b[0m\u001b[0;34m)\u001b[0m\u001b[0;34m\u001b[0m\u001b[0;34m\u001b[0m\u001b[0m\n\u001b[1;32m     52\u001b[0m \u001b[0;32mwhile\u001b[0m \u001b[0;32mTrue\u001b[0m\u001b[0;34m:\u001b[0m\u001b[0;34m\u001b[0m\u001b[0;34m\u001b[0m\u001b[0m\n\u001b[0;32m---> 53\u001b[0;31m   \u001b[0mmy_p\u001b[0m\u001b[0;34m.\u001b[0m\u001b[0mtrain_human\u001b[0m\u001b[0;34m(\u001b[0m\u001b[0;34m)\u001b[0m\u001b[0;34m\u001b[0m\u001b[0;34m\u001b[0m\u001b[0m\n\u001b[0m\u001b[1;32m     54\u001b[0m   \u001b[0mmy_p\u001b[0m\u001b[0;34m.\u001b[0m\u001b[0mplot\u001b[0m\u001b[0;34m(\u001b[0m\u001b[0;34m)\u001b[0m\u001b[0;34m\u001b[0m\u001b[0;34m\u001b[0m\u001b[0m\n",
            "\u001b[0;32m/tmp/ipython-input-627762577.py\u001b[0m in \u001b[0;36mtrain_human\u001b[0;34m(self)\u001b[0m\n\u001b[1;32m     38\u001b[0m     \u001b[0;34m\"\"\" Updates weights based on human input \"\"\"\u001b[0m\u001b[0;34m\u001b[0m\u001b[0;34m\u001b[0m\u001b[0m\n\u001b[1;32m     39\u001b[0m     \u001b[0mprint\u001b[0m\u001b[0;34m(\u001b[0m\u001b[0;34m'Current weights: '\u001b[0m\u001b[0;34m,\u001b[0m \u001b[0mself\u001b[0m\u001b[0;34m.\u001b[0m\u001b[0mweights\u001b[0m\u001b[0;34m)\u001b[0m\u001b[0;34m\u001b[0m\u001b[0;34m\u001b[0m\u001b[0m\n\u001b[0;32m---> 40\u001b[0;31m     \u001b[0mself\u001b[0m\u001b[0;34m.\u001b[0m\u001b[0mweights\u001b[0m\u001b[0;34m[\u001b[0m\u001b[0;36m0\u001b[0m\u001b[0;34m]\u001b[0m \u001b[0;34m=\u001b[0m \u001b[0mfloat\u001b[0m\u001b[0;34m(\u001b[0m\u001b[0minput\u001b[0m\u001b[0;34m(\u001b[0m\u001b[0;34m'Enter w0:'\u001b[0m\u001b[0;34m)\u001b[0m\u001b[0;34m)\u001b[0m\u001b[0;34m\u001b[0m\u001b[0;34m\u001b[0m\u001b[0m\n\u001b[0m\u001b[1;32m     41\u001b[0m \u001b[0;34m\u001b[0m\u001b[0m\n\u001b[1;32m     42\u001b[0m \u001b[0;31m# EXAMPLE DATA\u001b[0m\u001b[0;34m\u001b[0m\u001b[0;34m\u001b[0m\u001b[0m\n",
            "\u001b[0;32m/usr/local/lib/python3.12/dist-packages/ipykernel/kernelbase.py\u001b[0m in \u001b[0;36mraw_input\u001b[0;34m(self, prompt)\u001b[0m\n\u001b[1;32m   1175\u001b[0m                 \u001b[0;34m\"raw_input was called, but this frontend does not support input requests.\"\u001b[0m\u001b[0;34m\u001b[0m\u001b[0;34m\u001b[0m\u001b[0m\n\u001b[1;32m   1176\u001b[0m             )\n\u001b[0;32m-> 1177\u001b[0;31m         return self._input_request(\n\u001b[0m\u001b[1;32m   1178\u001b[0m             \u001b[0mstr\u001b[0m\u001b[0;34m(\u001b[0m\u001b[0mprompt\u001b[0m\u001b[0;34m)\u001b[0m\u001b[0;34m,\u001b[0m\u001b[0;34m\u001b[0m\u001b[0;34m\u001b[0m\u001b[0m\n\u001b[1;32m   1179\u001b[0m             \u001b[0mself\u001b[0m\u001b[0;34m.\u001b[0m\u001b[0m_parent_ident\u001b[0m\u001b[0;34m[\u001b[0m\u001b[0;34m\"shell\"\u001b[0m\u001b[0;34m]\u001b[0m\u001b[0;34m,\u001b[0m\u001b[0;34m\u001b[0m\u001b[0;34m\u001b[0m\u001b[0m\n",
            "\u001b[0;32m/usr/local/lib/python3.12/dist-packages/ipykernel/kernelbase.py\u001b[0m in \u001b[0;36m_input_request\u001b[0;34m(self, prompt, ident, parent, password)\u001b[0m\n\u001b[1;32m   1217\u001b[0m             \u001b[0;32mexcept\u001b[0m \u001b[0mKeyboardInterrupt\u001b[0m\u001b[0;34m:\u001b[0m\u001b[0;34m\u001b[0m\u001b[0;34m\u001b[0m\u001b[0m\n\u001b[1;32m   1218\u001b[0m                 \u001b[0;31m# re-raise KeyboardInterrupt, to truncate traceback\u001b[0m\u001b[0;34m\u001b[0m\u001b[0;34m\u001b[0m\u001b[0m\n\u001b[0;32m-> 1219\u001b[0;31m                 \u001b[0;32mraise\u001b[0m \u001b[0mKeyboardInterrupt\u001b[0m\u001b[0;34m(\u001b[0m\u001b[0;34m\"Interrupted by user\"\u001b[0m\u001b[0;34m)\u001b[0m \u001b[0;32mfrom\u001b[0m \u001b[0;32mNone\u001b[0m\u001b[0;34m\u001b[0m\u001b[0;34m\u001b[0m\u001b[0m\n\u001b[0m\u001b[1;32m   1220\u001b[0m             \u001b[0;32mexcept\u001b[0m \u001b[0mException\u001b[0m\u001b[0;34m:\u001b[0m\u001b[0;34m\u001b[0m\u001b[0;34m\u001b[0m\u001b[0m\n\u001b[1;32m   1221\u001b[0m                 \u001b[0mself\u001b[0m\u001b[0;34m.\u001b[0m\u001b[0mlog\u001b[0m\u001b[0;34m.\u001b[0m\u001b[0mwarning\u001b[0m\u001b[0;34m(\u001b[0m\u001b[0;34m\"Invalid Message:\"\u001b[0m\u001b[0;34m,\u001b[0m \u001b[0mexc_info\u001b[0m\u001b[0;34m=\u001b[0m\u001b[0;32mTrue\u001b[0m\u001b[0;34m)\u001b[0m\u001b[0;34m\u001b[0m\u001b[0;34m\u001b[0m\u001b[0m\n",
            "\u001b[0;31mKeyboardInterrupt\u001b[0m: Interrupted by user"
          ]
        }
      ]
    }
  ]
}